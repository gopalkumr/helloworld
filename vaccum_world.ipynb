{
 "cells": [
  {
   "cell_type": "code",
   "execution_count": 1,
   "metadata": {},
   "outputs": [
    {
     "name": "stdout",
     "output_type": "stream",
     "text": [
      "Room 1 is clean\n",
      "Room 2 is dirty\n",
      "Cleaning room 2\n",
      "Room 1 is clean\n",
      "Room 2 is clean\n"
     ]
    }
   ],
   "source": [
    "#write code for vaccum world problem\n",
    "import random\n",
    "\n",
    "def vaccum_world():\n",
    "    #initially both rooms are dirty\n",
    "    room1 = 'dirty'\n",
    "    room2 = 'dirty'\n",
    "    #randomly choose a room to clean\n",
    "    room = random.randint(1,2)\n",
    "    if room == 1:\n",
    "        room1 = 'clean'\n",
    "    else:\n",
    "        room2 = 'clean'\n",
    "    #print the room status\n",
    "    print('Room 1 is', room1)\n",
    "    print('Room 2 is', room2)\n",
    "    #clean the room\n",
    "    if room1 == 'dirty':\n",
    "        print('Cleaning room 1')\n",
    "        room1 = 'clean'\n",
    "    else:\n",
    "        print('Cleaning room 2')\n",
    "        room2 = 'clean'\n",
    "    #print the room status\n",
    "    print('Room 1 is', room1)\n",
    "    print('Room 2 is', room2)\n",
    "\n",
    "if __name__ == '__main__':\n",
    "    vaccum_world()\n",
    "\n",
    "\n",
    "print(\"changes have done\")\n",
    "    "
   ]
  }
 ],
 "metadata": {
  "kernelspec": {
   "display_name": "Python 3",
   "language": "python",
   "name": "python3"
  },
  "language_info": {
   "name": "python",
   "version": "3.11.4"
  }
 },
 "nbformat": 4,
 "nbformat_minor": 2
}
